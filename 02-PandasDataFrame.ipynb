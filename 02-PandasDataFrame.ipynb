{
 "cells": [
  {
   "cell_type": "markdown",
   "metadata": {
    "id": "q-0A5t0DcQPO"
   },
   "source": [
    "## Data Frames"
   ]
  },
  {
   "cell_type": "code",
   "execution_count": 1,
   "metadata": {
    "executionInfo": {
     "elapsed": 14,
     "status": "ok",
     "timestamp": 1643469971320,
     "user": {
      "displayName": "Burak Boduroğlu",
      "photoUrl": "https://lh3.googleusercontent.com/a-/AOh14Ghv4WZFSsxF7TCmecyncJC2-pMd9QzjOV34EYUe=s64",
      "userId": "12378168207273517757"
     },
     "user_tz": -180
    },
    "id": "4KNEr372cMET"
   },
   "outputs": [],
   "source": [
    "import pandas as pd\n",
    "import numpy as np"
   ]
  },
  {
   "cell_type": "code",
   "execution_count": 4,
   "metadata": {
    "executionInfo": {
     "elapsed": 6,
     "status": "ok",
     "timestamp": 1643470022388,
     "user": {
      "displayName": "Burak Boduroğlu",
      "photoUrl": "https://lh3.googleusercontent.com/a-/AOh14Ghv4WZFSsxF7TCmecyncJC2-pMd9QzjOV34EYUe=s64",
      "userId": "12378168207273517757"
     },
     "user_tz": -180
    },
    "id": "Picjg_aFcXxd"
   },
   "outputs": [],
   "source": [
    "data = np.random.randn(4, 3)"
   ]
  },
  {
   "cell_type": "code",
   "execution_count": 5,
   "metadata": {
    "colab": {
     "base_uri": "https://localhost:8080/"
    },
    "executionInfo": {
     "elapsed": 8,
     "status": "ok",
     "timestamp": 1643470025670,
     "user": {
      "displayName": "Burak Boduroğlu",
      "photoUrl": "https://lh3.googleusercontent.com/a-/AOh14Ghv4WZFSsxF7TCmecyncJC2-pMd9QzjOV34EYUe=s64",
      "userId": "12378168207273517757"
     },
     "user_tz": -180
    },
    "id": "EshWEfO2ceXf",
    "outputId": "ed4402c7-b3f1-4ba3-e92b-a8b96f140cdb"
   },
   "outputs": [
    {
     "data": {
      "text/plain": [
       "array([[-0.9644534 ,  1.02408974, -0.34887493],\n",
       "       [-0.67044776,  0.77967571, -0.48976599],\n",
       "       [ 0.79786236, -0.11397978, -0.3951259 ],\n",
       "       [ 0.28387782,  0.06832486,  0.73278898]])"
      ]
     },
     "execution_count": 5,
     "metadata": {},
     "output_type": "execute_result"
    }
   ],
   "source": [
    "data "
   ]
  },
  {
   "cell_type": "code",
   "execution_count": 6,
   "metadata": {
    "executionInfo": {
     "elapsed": 5,
     "status": "ok",
     "timestamp": 1643470097263,
     "user": {
      "displayName": "Burak Boduroğlu",
      "photoUrl": "https://lh3.googleusercontent.com/a-/AOh14Ghv4WZFSsxF7TCmecyncJC2-pMd9QzjOV34EYUe=s64",
      "userId": "12378168207273517757"
     },
     "user_tz": -180
    },
    "id": "7DUzzQR3cm_1"
   },
   "outputs": [],
   "source": [
    "dataFrame = pd.DataFrame(data)"
   ]
  },
  {
   "cell_type": "code",
   "execution_count": 8,
   "metadata": {
    "colab": {
     "base_uri": "https://localhost:8080/",
     "height": 175
    },
    "executionInfo": {
     "elapsed": 418,
     "status": "ok",
     "timestamp": 1643470119679,
     "user": {
      "displayName": "Burak Boduroğlu",
      "photoUrl": "https://lh3.googleusercontent.com/a-/AOh14Ghv4WZFSsxF7TCmecyncJC2-pMd9QzjOV34EYUe=s64",
      "userId": "12378168207273517757"
     },
     "user_tz": -180
    },
    "id": "s0XJ4a71c4Wk",
    "outputId": "32417fb7-41f2-46c6-f9cb-1526dab54753"
   },
   "outputs": [
    {
     "data": {
      "text/html": [
       "\n",
       "  <div id=\"df-045d9281-e1ad-45bc-b259-185ec5e293e7\">\n",
       "    <div class=\"colab-df-container\">\n",
       "      <div>\n",
       "<style scoped>\n",
       "    .dataframe tbody tr th:only-of-type {\n",
       "        vertical-align: middle;\n",
       "    }\n",
       "\n",
       "    .dataframe tbody tr th {\n",
       "        vertical-align: top;\n",
       "    }\n",
       "\n",
       "    .dataframe thead th {\n",
       "        text-align: right;\n",
       "    }\n",
       "</style>\n",
       "<table border=\"1\" class=\"dataframe\">\n",
       "  <thead>\n",
       "    <tr style=\"text-align: right;\">\n",
       "      <th></th>\n",
       "      <th>0</th>\n",
       "      <th>1</th>\n",
       "      <th>2</th>\n",
       "    </tr>\n",
       "  </thead>\n",
       "  <tbody>\n",
       "    <tr>\n",
       "      <th>0</th>\n",
       "      <td>-0.964453</td>\n",
       "      <td>1.024090</td>\n",
       "      <td>-0.348875</td>\n",
       "    </tr>\n",
       "    <tr>\n",
       "      <th>1</th>\n",
       "      <td>-0.670448</td>\n",
       "      <td>0.779676</td>\n",
       "      <td>-0.489766</td>\n",
       "    </tr>\n",
       "    <tr>\n",
       "      <th>2</th>\n",
       "      <td>0.797862</td>\n",
       "      <td>-0.113980</td>\n",
       "      <td>-0.395126</td>\n",
       "    </tr>\n",
       "    <tr>\n",
       "      <th>3</th>\n",
       "      <td>0.283878</td>\n",
       "      <td>0.068325</td>\n",
       "      <td>0.732789</td>\n",
       "    </tr>\n",
       "  </tbody>\n",
       "</table>\n",
       "</div>\n",
       "      <button class=\"colab-df-convert\" onclick=\"convertToInteractive('df-045d9281-e1ad-45bc-b259-185ec5e293e7')\"\n",
       "              title=\"Convert this dataframe to an interactive table.\"\n",
       "              style=\"display:none;\">\n",
       "        \n",
       "  <svg xmlns=\"http://www.w3.org/2000/svg\" height=\"24px\"viewBox=\"0 0 24 24\"\n",
       "       width=\"24px\">\n",
       "    <path d=\"M0 0h24v24H0V0z\" fill=\"none\"/>\n",
       "    <path d=\"M18.56 5.44l.94 2.06.94-2.06 2.06-.94-2.06-.94-.94-2.06-.94 2.06-2.06.94zm-11 1L8.5 8.5l.94-2.06 2.06-.94-2.06-.94L8.5 2.5l-.94 2.06-2.06.94zm10 10l.94 2.06.94-2.06 2.06-.94-2.06-.94-.94-2.06-.94 2.06-2.06.94z\"/><path d=\"M17.41 7.96l-1.37-1.37c-.4-.4-.92-.59-1.43-.59-.52 0-1.04.2-1.43.59L10.3 9.45l-7.72 7.72c-.78.78-.78 2.05 0 2.83L4 21.41c.39.39.9.59 1.41.59.51 0 1.02-.2 1.41-.59l7.78-7.78 2.81-2.81c.8-.78.8-2.07 0-2.86zM5.41 20L4 18.59l7.72-7.72 1.47 1.35L5.41 20z\"/>\n",
       "  </svg>\n",
       "      </button>\n",
       "      \n",
       "  <style>\n",
       "    .colab-df-container {\n",
       "      display:flex;\n",
       "      flex-wrap:wrap;\n",
       "      gap: 12px;\n",
       "    }\n",
       "\n",
       "    .colab-df-convert {\n",
       "      background-color: #E8F0FE;\n",
       "      border: none;\n",
       "      border-radius: 50%;\n",
       "      cursor: pointer;\n",
       "      display: none;\n",
       "      fill: #1967D2;\n",
       "      height: 32px;\n",
       "      padding: 0 0 0 0;\n",
       "      width: 32px;\n",
       "    }\n",
       "\n",
       "    .colab-df-convert:hover {\n",
       "      background-color: #E2EBFA;\n",
       "      box-shadow: 0px 1px 2px rgba(60, 64, 67, 0.3), 0px 1px 3px 1px rgba(60, 64, 67, 0.15);\n",
       "      fill: #174EA6;\n",
       "    }\n",
       "\n",
       "    [theme=dark] .colab-df-convert {\n",
       "      background-color: #3B4455;\n",
       "      fill: #D2E3FC;\n",
       "    }\n",
       "\n",
       "    [theme=dark] .colab-df-convert:hover {\n",
       "      background-color: #434B5C;\n",
       "      box-shadow: 0px 1px 3px 1px rgba(0, 0, 0, 0.15);\n",
       "      filter: drop-shadow(0px 1px 2px rgba(0, 0, 0, 0.3));\n",
       "      fill: #FFFFFF;\n",
       "    }\n",
       "  </style>\n",
       "\n",
       "      <script>\n",
       "        const buttonEl =\n",
       "          document.querySelector('#df-045d9281-e1ad-45bc-b259-185ec5e293e7 button.colab-df-convert');\n",
       "        buttonEl.style.display =\n",
       "          google.colab.kernel.accessAllowed ? 'block' : 'none';\n",
       "\n",
       "        async function convertToInteractive(key) {\n",
       "          const element = document.querySelector('#df-045d9281-e1ad-45bc-b259-185ec5e293e7');\n",
       "          const dataTable =\n",
       "            await google.colab.kernel.invokeFunction('convertToInteractive',\n",
       "                                                     [key], {});\n",
       "          if (!dataTable) return;\n",
       "\n",
       "          const docLinkHtml = 'Like what you see? Visit the ' +\n",
       "            '<a target=\"_blank\" href=https://colab.research.google.com/notebooks/data_table.ipynb>data table notebook</a>'\n",
       "            + ' to learn more about interactive tables.';\n",
       "          element.innerHTML = '';\n",
       "          dataTable['output_type'] = 'display_data';\n",
       "          await google.colab.output.renderOutput(dataTable, element);\n",
       "          const docLink = document.createElement('div');\n",
       "          docLink.innerHTML = docLinkHtml;\n",
       "          element.appendChild(docLink);\n",
       "        }\n",
       "      </script>\n",
       "    </div>\n",
       "  </div>\n",
       "  "
      ],
      "text/plain": [
       "          0         1         2\n",
       "0 -0.964453  1.024090 -0.348875\n",
       "1 -0.670448  0.779676 -0.489766\n",
       "2  0.797862 -0.113980 -0.395126\n",
       "3  0.283878  0.068325  0.732789"
      ]
     },
     "execution_count": 8,
     "metadata": {},
     "output_type": "execute_result"
    }
   ],
   "source": [
    "dataFrame"
   ]
  },
  {
   "cell_type": "code",
   "execution_count": 9,
   "metadata": {
    "colab": {
     "base_uri": "https://localhost:8080/"
    },
    "executionInfo": {
     "elapsed": 12,
     "status": "ok",
     "timestamp": 1643470158437,
     "user": {
      "displayName": "Burak Boduroğlu",
      "photoUrl": "https://lh3.googleusercontent.com/a-/AOh14Ghv4WZFSsxF7TCmecyncJC2-pMd9QzjOV34EYUe=s64",
      "userId": "12378168207273517757"
     },
     "user_tz": -180
    },
    "id": "9OesLUJjc5dc",
    "outputId": "d8f26d65-58ea-452f-c0aa-a1712a8a143c"
   },
   "outputs": [
    {
     "data": {
      "text/plain": [
       "0   -0.964453\n",
       "1   -0.670448\n",
       "2    0.797862\n",
       "3    0.283878\n",
       "Name: 0, dtype: float64"
      ]
     },
     "execution_count": 9,
     "metadata": {},
     "output_type": "execute_result"
    }
   ],
   "source": [
    "dataFrame[0]"
   ]
  },
  {
   "cell_type": "code",
   "execution_count": 11,
   "metadata": {
    "colab": {
     "base_uri": "https://localhost:8080/"
    },
    "executionInfo": {
     "elapsed": 8,
     "status": "ok",
     "timestamp": 1643470181913,
     "user": {
      "displayName": "Burak Boduroğlu",
      "photoUrl": "https://lh3.googleusercontent.com/a-/AOh14Ghv4WZFSsxF7TCmecyncJC2-pMd9QzjOV34EYUe=s64",
      "userId": "12378168207273517757"
     },
     "user_tz": -180
    },
    "id": "OhL524eUdHNN",
    "outputId": "2e8ab008-238b-486a-82af-fc96fe1fa3ed"
   },
   "outputs": [
    {
     "data": {
      "text/plain": [
       "-0.9644534032009159"
      ]
     },
     "execution_count": 11,
     "metadata": {},
     "output_type": "execute_result"
    }
   ],
   "source": [
    "dataFrame[0][0]"
   ]
  },
  {
   "cell_type": "code",
   "execution_count": 15,
   "metadata": {
    "executionInfo": {
     "elapsed": 455,
     "status": "ok",
     "timestamp": 1643470313955,
     "user": {
      "displayName": "Burak Boduroğlu",
      "photoUrl": "https://lh3.googleusercontent.com/a-/AOh14Ghv4WZFSsxF7TCmecyncJC2-pMd9QzjOV34EYUe=s64",
      "userId": "12378168207273517757"
     },
     "user_tz": -180
    },
    "id": "FHU-cC71dJl0"
   },
   "outputs": [],
   "source": [
    "newDataFrame = pd.DataFrame(data = data, index = [\"One\",\"Two\",\"Three\",\"Four\"], columns = [\"A\",\"B\",\"C\"])"
   ]
  },
  {
   "cell_type": "code",
   "execution_count": 16,
   "metadata": {
    "colab": {
     "base_uri": "https://localhost:8080/",
     "height": 175
    },
    "executionInfo": {
     "elapsed": 11,
     "status": "ok",
     "timestamp": 1643470314405,
     "user": {
      "displayName": "Burak Boduroğlu",
      "photoUrl": "https://lh3.googleusercontent.com/a-/AOh14Ghv4WZFSsxF7TCmecyncJC2-pMd9QzjOV34EYUe=s64",
      "userId": "12378168207273517757"
     },
     "user_tz": -180
    },
    "id": "7B5mujPNdkwH",
    "outputId": "f034efb2-a0ad-4663-f872-7253e6265e03"
   },
   "outputs": [
    {
     "data": {
      "text/html": [
       "\n",
       "  <div id=\"df-30d15148-8bfb-466c-8d97-64ed13adc209\">\n",
       "    <div class=\"colab-df-container\">\n",
       "      <div>\n",
       "<style scoped>\n",
       "    .dataframe tbody tr th:only-of-type {\n",
       "        vertical-align: middle;\n",
       "    }\n",
       "\n",
       "    .dataframe tbody tr th {\n",
       "        vertical-align: top;\n",
       "    }\n",
       "\n",
       "    .dataframe thead th {\n",
       "        text-align: right;\n",
       "    }\n",
       "</style>\n",
       "<table border=\"1\" class=\"dataframe\">\n",
       "  <thead>\n",
       "    <tr style=\"text-align: right;\">\n",
       "      <th></th>\n",
       "      <th>A</th>\n",
       "      <th>B</th>\n",
       "      <th>C</th>\n",
       "    </tr>\n",
       "  </thead>\n",
       "  <tbody>\n",
       "    <tr>\n",
       "      <th>One</th>\n",
       "      <td>-0.964453</td>\n",
       "      <td>1.024090</td>\n",
       "      <td>-0.348875</td>\n",
       "    </tr>\n",
       "    <tr>\n",
       "      <th>Two</th>\n",
       "      <td>-0.670448</td>\n",
       "      <td>0.779676</td>\n",
       "      <td>-0.489766</td>\n",
       "    </tr>\n",
       "    <tr>\n",
       "      <th>Three</th>\n",
       "      <td>0.797862</td>\n",
       "      <td>-0.113980</td>\n",
       "      <td>-0.395126</td>\n",
       "    </tr>\n",
       "    <tr>\n",
       "      <th>Four</th>\n",
       "      <td>0.283878</td>\n",
       "      <td>0.068325</td>\n",
       "      <td>0.732789</td>\n",
       "    </tr>\n",
       "  </tbody>\n",
       "</table>\n",
       "</div>\n",
       "      <button class=\"colab-df-convert\" onclick=\"convertToInteractive('df-30d15148-8bfb-466c-8d97-64ed13adc209')\"\n",
       "              title=\"Convert this dataframe to an interactive table.\"\n",
       "              style=\"display:none;\">\n",
       "        \n",
       "  <svg xmlns=\"http://www.w3.org/2000/svg\" height=\"24px\"viewBox=\"0 0 24 24\"\n",
       "       width=\"24px\">\n",
       "    <path d=\"M0 0h24v24H0V0z\" fill=\"none\"/>\n",
       "    <path d=\"M18.56 5.44l.94 2.06.94-2.06 2.06-.94-2.06-.94-.94-2.06-.94 2.06-2.06.94zm-11 1L8.5 8.5l.94-2.06 2.06-.94-2.06-.94L8.5 2.5l-.94 2.06-2.06.94zm10 10l.94 2.06.94-2.06 2.06-.94-2.06-.94-.94-2.06-.94 2.06-2.06.94z\"/><path d=\"M17.41 7.96l-1.37-1.37c-.4-.4-.92-.59-1.43-.59-.52 0-1.04.2-1.43.59L10.3 9.45l-7.72 7.72c-.78.78-.78 2.05 0 2.83L4 21.41c.39.39.9.59 1.41.59.51 0 1.02-.2 1.41-.59l7.78-7.78 2.81-2.81c.8-.78.8-2.07 0-2.86zM5.41 20L4 18.59l7.72-7.72 1.47 1.35L5.41 20z\"/>\n",
       "  </svg>\n",
       "      </button>\n",
       "      \n",
       "  <style>\n",
       "    .colab-df-container {\n",
       "      display:flex;\n",
       "      flex-wrap:wrap;\n",
       "      gap: 12px;\n",
       "    }\n",
       "\n",
       "    .colab-df-convert {\n",
       "      background-color: #E8F0FE;\n",
       "      border: none;\n",
       "      border-radius: 50%;\n",
       "      cursor: pointer;\n",
       "      display: none;\n",
       "      fill: #1967D2;\n",
       "      height: 32px;\n",
       "      padding: 0 0 0 0;\n",
       "      width: 32px;\n",
       "    }\n",
       "\n",
       "    .colab-df-convert:hover {\n",
       "      background-color: #E2EBFA;\n",
       "      box-shadow: 0px 1px 2px rgba(60, 64, 67, 0.3), 0px 1px 3px 1px rgba(60, 64, 67, 0.15);\n",
       "      fill: #174EA6;\n",
       "    }\n",
       "\n",
       "    [theme=dark] .colab-df-convert {\n",
       "      background-color: #3B4455;\n",
       "      fill: #D2E3FC;\n",
       "    }\n",
       "\n",
       "    [theme=dark] .colab-df-convert:hover {\n",
       "      background-color: #434B5C;\n",
       "      box-shadow: 0px 1px 3px 1px rgba(0, 0, 0, 0.15);\n",
       "      filter: drop-shadow(0px 1px 2px rgba(0, 0, 0, 0.3));\n",
       "      fill: #FFFFFF;\n",
       "    }\n",
       "  </style>\n",
       "\n",
       "      <script>\n",
       "        const buttonEl =\n",
       "          document.querySelector('#df-30d15148-8bfb-466c-8d97-64ed13adc209 button.colab-df-convert');\n",
       "        buttonEl.style.display =\n",
       "          google.colab.kernel.accessAllowed ? 'block' : 'none';\n",
       "\n",
       "        async function convertToInteractive(key) {\n",
       "          const element = document.querySelector('#df-30d15148-8bfb-466c-8d97-64ed13adc209');\n",
       "          const dataTable =\n",
       "            await google.colab.kernel.invokeFunction('convertToInteractive',\n",
       "                                                     [key], {});\n",
       "          if (!dataTable) return;\n",
       "\n",
       "          const docLinkHtml = 'Like what you see? Visit the ' +\n",
       "            '<a target=\"_blank\" href=https://colab.research.google.com/notebooks/data_table.ipynb>data table notebook</a>'\n",
       "            + ' to learn more about interactive tables.';\n",
       "          element.innerHTML = '';\n",
       "          dataTable['output_type'] = 'display_data';\n",
       "          await google.colab.output.renderOutput(dataTable, element);\n",
       "          const docLink = document.createElement('div');\n",
       "          docLink.innerHTML = docLinkHtml;\n",
       "          element.appendChild(docLink);\n",
       "        }\n",
       "      </script>\n",
       "    </div>\n",
       "  </div>\n",
       "  "
      ],
      "text/plain": [
       "              A         B         C\n",
       "One   -0.964453  1.024090 -0.348875\n",
       "Two   -0.670448  0.779676 -0.489766\n",
       "Three  0.797862 -0.113980 -0.395126\n",
       "Four   0.283878  0.068325  0.732789"
      ]
     },
     "execution_count": 16,
     "metadata": {},
     "output_type": "execute_result"
    }
   ],
   "source": [
    "newDataFrame"
   ]
  },
  {
   "cell_type": "markdown",
   "metadata": {
    "id": "VlpLPszDhYBJ"
   },
   "source": [
    "* Column"
   ]
  },
  {
   "cell_type": "code",
   "execution_count": 17,
   "metadata": {
    "colab": {
     "base_uri": "https://localhost:8080/"
    },
    "executionInfo": {
     "elapsed": 6,
     "status": "ok",
     "timestamp": 1643470314848,
     "user": {
      "displayName": "Burak Boduroğlu",
      "photoUrl": "https://lh3.googleusercontent.com/a-/AOh14Ghv4WZFSsxF7TCmecyncJC2-pMd9QzjOV34EYUe=s64",
      "userId": "12378168207273517757"
     },
     "user_tz": -180
    },
    "id": "mM7qERridoNs",
    "outputId": "5f83fc88-aa53-400d-ec74-e3d8b3f2c3bb"
   },
   "outputs": [
    {
     "data": {
      "text/plain": [
       "One      1.024090\n",
       "Two      0.779676\n",
       "Three   -0.113980\n",
       "Four     0.068325\n",
       "Name: B, dtype: float64"
      ]
     },
     "execution_count": 17,
     "metadata": {},
     "output_type": "execute_result"
    }
   ],
   "source": [
    "newDataFrame[\"B\"]"
   ]
  },
  {
   "cell_type": "code",
   "execution_count": 18,
   "metadata": {
    "colab": {
     "base_uri": "https://localhost:8080/",
     "height": 175
    },
    "executionInfo": {
     "elapsed": 439,
     "status": "ok",
     "timestamp": 1643470344045,
     "user": {
      "displayName": "Burak Boduroğlu",
      "photoUrl": "https://lh3.googleusercontent.com/a-/AOh14Ghv4WZFSsxF7TCmecyncJC2-pMd9QzjOV34EYUe=s64",
      "userId": "12378168207273517757"
     },
     "user_tz": -180
    },
    "id": "FmF6aEQNdrps",
    "outputId": "5eb05583-460e-438f-d942-1e6cf0ee86c9"
   },
   "outputs": [
    {
     "data": {
      "text/html": [
       "\n",
       "  <div id=\"df-c4a7ecbe-a6e7-409c-bba9-4b131d78941d\">\n",
       "    <div class=\"colab-df-container\">\n",
       "      <div>\n",
       "<style scoped>\n",
       "    .dataframe tbody tr th:only-of-type {\n",
       "        vertical-align: middle;\n",
       "    }\n",
       "\n",
       "    .dataframe tbody tr th {\n",
       "        vertical-align: top;\n",
       "    }\n",
       "\n",
       "    .dataframe thead th {\n",
       "        text-align: right;\n",
       "    }\n",
       "</style>\n",
       "<table border=\"1\" class=\"dataframe\">\n",
       "  <thead>\n",
       "    <tr style=\"text-align: right;\">\n",
       "      <th></th>\n",
       "      <th>A</th>\n",
       "      <th>C</th>\n",
       "    </tr>\n",
       "  </thead>\n",
       "  <tbody>\n",
       "    <tr>\n",
       "      <th>One</th>\n",
       "      <td>-0.964453</td>\n",
       "      <td>-0.348875</td>\n",
       "    </tr>\n",
       "    <tr>\n",
       "      <th>Two</th>\n",
       "      <td>-0.670448</td>\n",
       "      <td>-0.489766</td>\n",
       "    </tr>\n",
       "    <tr>\n",
       "      <th>Three</th>\n",
       "      <td>0.797862</td>\n",
       "      <td>-0.395126</td>\n",
       "    </tr>\n",
       "    <tr>\n",
       "      <th>Four</th>\n",
       "      <td>0.283878</td>\n",
       "      <td>0.732789</td>\n",
       "    </tr>\n",
       "  </tbody>\n",
       "</table>\n",
       "</div>\n",
       "      <button class=\"colab-df-convert\" onclick=\"convertToInteractive('df-c4a7ecbe-a6e7-409c-bba9-4b131d78941d')\"\n",
       "              title=\"Convert this dataframe to an interactive table.\"\n",
       "              style=\"display:none;\">\n",
       "        \n",
       "  <svg xmlns=\"http://www.w3.org/2000/svg\" height=\"24px\"viewBox=\"0 0 24 24\"\n",
       "       width=\"24px\">\n",
       "    <path d=\"M0 0h24v24H0V0z\" fill=\"none\"/>\n",
       "    <path d=\"M18.56 5.44l.94 2.06.94-2.06 2.06-.94-2.06-.94-.94-2.06-.94 2.06-2.06.94zm-11 1L8.5 8.5l.94-2.06 2.06-.94-2.06-.94L8.5 2.5l-.94 2.06-2.06.94zm10 10l.94 2.06.94-2.06 2.06-.94-2.06-.94-.94-2.06-.94 2.06-2.06.94z\"/><path d=\"M17.41 7.96l-1.37-1.37c-.4-.4-.92-.59-1.43-.59-.52 0-1.04.2-1.43.59L10.3 9.45l-7.72 7.72c-.78.78-.78 2.05 0 2.83L4 21.41c.39.39.9.59 1.41.59.51 0 1.02-.2 1.41-.59l7.78-7.78 2.81-2.81c.8-.78.8-2.07 0-2.86zM5.41 20L4 18.59l7.72-7.72 1.47 1.35L5.41 20z\"/>\n",
       "  </svg>\n",
       "      </button>\n",
       "      \n",
       "  <style>\n",
       "    .colab-df-container {\n",
       "      display:flex;\n",
       "      flex-wrap:wrap;\n",
       "      gap: 12px;\n",
       "    }\n",
       "\n",
       "    .colab-df-convert {\n",
       "      background-color: #E8F0FE;\n",
       "      border: none;\n",
       "      border-radius: 50%;\n",
       "      cursor: pointer;\n",
       "      display: none;\n",
       "      fill: #1967D2;\n",
       "      height: 32px;\n",
       "      padding: 0 0 0 0;\n",
       "      width: 32px;\n",
       "    }\n",
       "\n",
       "    .colab-df-convert:hover {\n",
       "      background-color: #E2EBFA;\n",
       "      box-shadow: 0px 1px 2px rgba(60, 64, 67, 0.3), 0px 1px 3px 1px rgba(60, 64, 67, 0.15);\n",
       "      fill: #174EA6;\n",
       "    }\n",
       "\n",
       "    [theme=dark] .colab-df-convert {\n",
       "      background-color: #3B4455;\n",
       "      fill: #D2E3FC;\n",
       "    }\n",
       "\n",
       "    [theme=dark] .colab-df-convert:hover {\n",
       "      background-color: #434B5C;\n",
       "      box-shadow: 0px 1px 3px 1px rgba(0, 0, 0, 0.15);\n",
       "      filter: drop-shadow(0px 1px 2px rgba(0, 0, 0, 0.3));\n",
       "      fill: #FFFFFF;\n",
       "    }\n",
       "  </style>\n",
       "\n",
       "      <script>\n",
       "        const buttonEl =\n",
       "          document.querySelector('#df-c4a7ecbe-a6e7-409c-bba9-4b131d78941d button.colab-df-convert');\n",
       "        buttonEl.style.display =\n",
       "          google.colab.kernel.accessAllowed ? 'block' : 'none';\n",
       "\n",
       "        async function convertToInteractive(key) {\n",
       "          const element = document.querySelector('#df-c4a7ecbe-a6e7-409c-bba9-4b131d78941d');\n",
       "          const dataTable =\n",
       "            await google.colab.kernel.invokeFunction('convertToInteractive',\n",
       "                                                     [key], {});\n",
       "          if (!dataTable) return;\n",
       "\n",
       "          const docLinkHtml = 'Like what you see? Visit the ' +\n",
       "            '<a target=\"_blank\" href=https://colab.research.google.com/notebooks/data_table.ipynb>data table notebook</a>'\n",
       "            + ' to learn more about interactive tables.';\n",
       "          element.innerHTML = '';\n",
       "          dataTable['output_type'] = 'display_data';\n",
       "          await google.colab.output.renderOutput(dataTable, element);\n",
       "          const docLink = document.createElement('div');\n",
       "          docLink.innerHTML = docLinkHtml;\n",
       "          element.appendChild(docLink);\n",
       "        }\n",
       "      </script>\n",
       "    </div>\n",
       "  </div>\n",
       "  "
      ],
      "text/plain": [
       "              A         C\n",
       "One   -0.964453 -0.348875\n",
       "Two   -0.670448 -0.489766\n",
       "Three  0.797862 -0.395126\n",
       "Four   0.283878  0.732789"
      ]
     },
     "execution_count": 18,
     "metadata": {},
     "output_type": "execute_result"
    }
   ],
   "source": [
    "newDataFrame[[\"A\",\"C\"]]"
   ]
  },
  {
   "cell_type": "markdown",
   "metadata": {
    "id": "VxIFZSk5hhrI"
   },
   "source": [
    " * Row"
   ]
  },
  {
   "cell_type": "code",
   "execution_count": 19,
   "metadata": {
    "colab": {
     "base_uri": "https://localhost:8080/"
    },
    "executionInfo": {
     "elapsed": 450,
     "status": "ok",
     "timestamp": 1643471400448,
     "user": {
      "displayName": "Burak Boduroğlu",
      "photoUrl": "https://lh3.googleusercontent.com/a-/AOh14Ghv4WZFSsxF7TCmecyncJC2-pMd9QzjOV34EYUe=s64",
      "userId": "12378168207273517757"
     },
     "user_tz": -180
    },
    "id": "Oj662cIBhif7",
    "outputId": "53c32a90-3d23-434b-c4a7-4b3e407b1075"
   },
   "outputs": [
    {
     "data": {
      "text/plain": [
       "A   -0.964453\n",
       "B    1.024090\n",
       "C   -0.348875\n",
       "Name: One, dtype: float64"
      ]
     },
     "execution_count": 19,
     "metadata": {},
     "output_type": "execute_result"
    }
   ],
   "source": [
    "newDataFrame.loc[\"One\"]"
   ]
  },
  {
   "cell_type": "markdown",
   "metadata": {
    "id": "It_ggzyWh-lw"
   },
   "source": [
    "* Index \n"
   ]
  },
  {
   "cell_type": "code",
   "execution_count": 20,
   "metadata": {
    "colab": {
     "base_uri": "https://localhost:8080/"
    },
    "executionInfo": {
     "elapsed": 436,
     "status": "ok",
     "timestamp": 1643471459621,
     "user": {
      "displayName": "Burak Boduroğlu",
      "photoUrl": "https://lh3.googleusercontent.com/a-/AOh14Ghv4WZFSsxF7TCmecyncJC2-pMd9QzjOV34EYUe=s64",
      "userId": "12378168207273517757"
     },
     "user_tz": -180
    },
    "id": "UircTJK0h2eW",
    "outputId": "5719edcc-ac74-4e64-8d5a-5fc753de4e93"
   },
   "outputs": [
    {
     "data": {
      "text/plain": [
       "A   -0.670448\n",
       "B    0.779676\n",
       "C   -0.489766\n",
       "Name: Two, dtype: float64"
      ]
     },
     "execution_count": 20,
     "metadata": {},
     "output_type": "execute_result"
    }
   ],
   "source": [
    "newDataFrame.iloc[1]"
   ]
  }
 ],
 "metadata": {
  "colab": {
   "authorship_tag": "ABX9TyN5szRdZiXUrPOal3I1uHrM",
   "collapsed_sections": [],
   "name": "02-PandasDataFrame.ipynb",
   "provenance": []
  },
  "kernelspec": {
   "display_name": "Python 3 (ipykernel)",
   "language": "python",
   "name": "python3"
  },
  "language_info": {
   "codemirror_mode": {
    "name": "ipython",
    "version": 3
   },
   "file_extension": ".py",
   "mimetype": "text/x-python",
   "name": "python",
   "nbconvert_exporter": "python",
   "pygments_lexer": "ipython3",
   "version": "3.9.7"
  }
 },
 "nbformat": 4,
 "nbformat_minor": 1
}
