{
 "cells": [
  {
   "cell_type": "code",
   "execution_count": 1,
   "id": "d4dc6187",
   "metadata": {},
   "outputs": [],
   "source": [
    "import pandas as pd\n",
    "import numpy as np"
   ]
  },
  {
   "cell_type": "code",
   "execution_count": 2,
   "id": "e987b74a",
   "metadata": {},
   "outputs": [],
   "source": [
    "dayList = [\"Monday\",\"Tuesday\",\"Wednesday\",\"Thursday\",\"Friday\",\"Saturday\",\"Sunday\"]"
   ]
  },
  {
   "cell_type": "code",
   "execution_count": 3,
   "id": "f8e96779",
   "metadata": {},
   "outputs": [],
   "source": [
    "dayNumberList = [1, 2, 3, 4, 5, 6, 7]"
   ]
  },
  {
   "cell_type": "code",
   "execution_count": 8,
   "id": "11363118",
   "metadata": {},
   "outputs": [],
   "source": [
    "data = list(zip(dayNumberList, dayList))"
   ]
  },
  {
   "cell_type": "code",
   "execution_count": 9,
   "id": "0f4ae23b",
   "metadata": {
    "scrolled": true
   },
   "outputs": [
    {
     "data": {
      "text/plain": [
       "[(1, 'Monday'),\n",
       " (2, 'Tuesday'),\n",
       " (3, 'Wednesday'),\n",
       " (4, 'Thursday'),\n",
       " (5, 'Friday'),\n",
       " (6, 'Saturday'),\n",
       " (7, 'Sunday')]"
      ]
     },
     "execution_count": 9,
     "metadata": {},
     "output_type": "execute_result"
    }
   ],
   "source": [
    "data"
   ]
  },
  {
   "cell_type": "code",
   "execution_count": 20,
   "id": "8c8d6d26",
   "metadata": {},
   "outputs": [],
   "source": [
    "dataFrame = pd.DataFrame(data = data, index = [\"-\", \"-\", \"-\", \"-\", \"-\", \"-\", \"-\"],columns = [\"Number of Day\", \"Name of Day\"])"
   ]
  },
  {
   "cell_type": "code",
   "execution_count": 21,
   "id": "71c1070d",
   "metadata": {},
   "outputs": [
    {
     "data": {
      "text/html": [
       "<div>\n",
       "<style scoped>\n",
       "    .dataframe tbody tr th:only-of-type {\n",
       "        vertical-align: middle;\n",
       "    }\n",
       "\n",
       "    .dataframe tbody tr th {\n",
       "        vertical-align: top;\n",
       "    }\n",
       "\n",
       "    .dataframe thead th {\n",
       "        text-align: right;\n",
       "    }\n",
       "</style>\n",
       "<table border=\"1\" class=\"dataframe\">\n",
       "  <thead>\n",
       "    <tr style=\"text-align: right;\">\n",
       "      <th></th>\n",
       "      <th>Number of Day</th>\n",
       "      <th>Name of Day</th>\n",
       "    </tr>\n",
       "  </thead>\n",
       "  <tbody>\n",
       "    <tr>\n",
       "      <th>-</th>\n",
       "      <td>1</td>\n",
       "      <td>Monday</td>\n",
       "    </tr>\n",
       "    <tr>\n",
       "      <th>-</th>\n",
       "      <td>2</td>\n",
       "      <td>Tuesday</td>\n",
       "    </tr>\n",
       "    <tr>\n",
       "      <th>-</th>\n",
       "      <td>3</td>\n",
       "      <td>Wednesday</td>\n",
       "    </tr>\n",
       "    <tr>\n",
       "      <th>-</th>\n",
       "      <td>4</td>\n",
       "      <td>Thursday</td>\n",
       "    </tr>\n",
       "    <tr>\n",
       "      <th>-</th>\n",
       "      <td>5</td>\n",
       "      <td>Friday</td>\n",
       "    </tr>\n",
       "    <tr>\n",
       "      <th>-</th>\n",
       "      <td>6</td>\n",
       "      <td>Saturday</td>\n",
       "    </tr>\n",
       "    <tr>\n",
       "      <th>-</th>\n",
       "      <td>7</td>\n",
       "      <td>Sunday</td>\n",
       "    </tr>\n",
       "  </tbody>\n",
       "</table>\n",
       "</div>"
      ],
      "text/plain": [
       "   Number of Day Name of Day\n",
       "-              1      Monday\n",
       "-              2     Tuesday\n",
       "-              3   Wednesday\n",
       "-              4    Thursday\n",
       "-              5      Friday\n",
       "-              6    Saturday\n",
       "-              7      Sunday"
      ]
     },
     "execution_count": 21,
     "metadata": {},
     "output_type": "execute_result"
    }
   ],
   "source": [
    "dataFrame"
   ]
  },
  {
   "cell_type": "code",
   "execution_count": 22,
   "id": "a2fe2038",
   "metadata": {},
   "outputs": [],
   "source": [
    "sportList = [\"Basketball\", \"Football\", \"Golf\", \"Volleyball\"]\n",
    "dayList = [\"Friday\", \"Tuesday\", \"Monday\", \"Thursday\"]"
   ]
  },
  {
   "cell_type": "code",
   "execution_count": 24,
   "id": "fae21054",
   "metadata": {},
   "outputs": [],
   "source": [
    "data = list(zip(sportList,dayList))"
   ]
  },
  {
   "cell_type": "code",
   "execution_count": 25,
   "id": "2dc0887c",
   "metadata": {},
   "outputs": [
    {
     "data": {
      "text/plain": [
       "[('Basketball', 'Friday'),\n",
       " ('Football', 'Tuesday'),\n",
       " ('Golf', 'Monday'),\n",
       " ('Volleyball', 'Thursday')]"
      ]
     },
     "execution_count": 25,
     "metadata": {},
     "output_type": "execute_result"
    }
   ],
   "source": [
    "data"
   ]
  },
  {
   "cell_type": "code",
   "execution_count": 29,
   "id": "9039c1ee",
   "metadata": {},
   "outputs": [],
   "source": [
    "dataFrame = pd.DataFrame(data = data, columns = [\"Sport\", \"Day\"])"
   ]
  },
  {
   "cell_type": "code",
   "execution_count": 30,
   "id": "79a2c6e3",
   "metadata": {},
   "outputs": [
    {
     "data": {
      "text/html": [
       "<div>\n",
       "<style scoped>\n",
       "    .dataframe tbody tr th:only-of-type {\n",
       "        vertical-align: middle;\n",
       "    }\n",
       "\n",
       "    .dataframe tbody tr th {\n",
       "        vertical-align: top;\n",
       "    }\n",
       "\n",
       "    .dataframe thead th {\n",
       "        text-align: right;\n",
       "    }\n",
       "</style>\n",
       "<table border=\"1\" class=\"dataframe\">\n",
       "  <thead>\n",
       "    <tr style=\"text-align: right;\">\n",
       "      <th></th>\n",
       "      <th>Sport</th>\n",
       "      <th>Day</th>\n",
       "    </tr>\n",
       "  </thead>\n",
       "  <tbody>\n",
       "    <tr>\n",
       "      <th>0</th>\n",
       "      <td>Basketball</td>\n",
       "      <td>Friday</td>\n",
       "    </tr>\n",
       "    <tr>\n",
       "      <th>1</th>\n",
       "      <td>Football</td>\n",
       "      <td>Tuesday</td>\n",
       "    </tr>\n",
       "    <tr>\n",
       "      <th>2</th>\n",
       "      <td>Golf</td>\n",
       "      <td>Monday</td>\n",
       "    </tr>\n",
       "    <tr>\n",
       "      <th>3</th>\n",
       "      <td>Volleyball</td>\n",
       "      <td>Thursday</td>\n",
       "    </tr>\n",
       "  </tbody>\n",
       "</table>\n",
       "</div>"
      ],
      "text/plain": [
       "        Sport       Day\n",
       "0  Basketball    Friday\n",
       "1    Football   Tuesday\n",
       "2        Golf    Monday\n",
       "3  Volleyball  Thursday"
      ]
     },
     "execution_count": 30,
     "metadata": {},
     "output_type": "execute_result"
    }
   ],
   "source": [
    "dataFrame"
   ]
  },
  {
   "cell_type": "code",
   "execution_count": 48,
   "id": "baa50fc4",
   "metadata": {},
   "outputs": [
    {
     "data": {
      "text/plain": [
       "Sport    Football\n",
       "Day       Tuesday\n",
       "Name: 1, dtype: object"
      ]
     },
     "execution_count": 48,
     "metadata": {},
     "output_type": "execute_result"
    }
   ],
   "source": [
    "dataFrame.iloc[1]"
   ]
  },
  {
   "cell_type": "code",
   "execution_count": 50,
   "id": "c24b27de",
   "metadata": {},
   "outputs": [
    {
     "data": {
      "text/plain": [
       "0    Basketball\n",
       "1      Football\n",
       "2          Golf\n",
       "3    Volleyball\n",
       "Name: Sport, dtype: object"
      ]
     },
     "execution_count": 50,
     "metadata": {},
     "output_type": "execute_result"
    }
   ],
   "source": [
    "dataFrame[\"Sport\"]"
   ]
  }
 ],
 "metadata": {
  "kernelspec": {
   "display_name": "Python 3 (ipykernel)",
   "language": "python",
   "name": "python3"
  },
  "language_info": {
   "codemirror_mode": {
    "name": "ipython",
    "version": 3
   },
   "file_extension": ".py",
   "mimetype": "text/x-python",
   "name": "python",
   "nbconvert_exporter": "python",
   "pygments_lexer": "ipython3",
   "version": "3.9.7"
  }
 },
 "nbformat": 4,
 "nbformat_minor": 5
}
